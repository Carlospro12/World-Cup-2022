{
  "nbformat": 4,
  "nbformat_minor": 0,
  "metadata": {
    "colab": {
      "provenance": [],
      "authorship_tag": "ABX9TyMqLdjBsi6VRkTmZ5j1wpbA",
      "include_colab_link": true
    },
    "kernelspec": {
      "name": "python3",
      "display_name": "Python 3"
    },
    "language_info": {
      "name": "python"
    }
  },
  "cells": [
    {
      "cell_type": "markdown",
      "metadata": {
        "id": "view-in-github",
        "colab_type": "text"
      },
      "source": [
        "<a href=\"https://colab.research.google.com/github/Carlospro12/World-Cup-2022/blob/main/World_Cup_2022.ipynb\" target=\"_parent\"><img src=\"https://colab.research.google.com/assets/colab-badge.svg\" alt=\"Open In Colab\"/></a>"
      ]
    },
    {
      "cell_type": "markdown",
      "source": [
        "# CONMEBOL\n",
        "Brazil, \n",
        "Argentina, \n",
        "Uruguay, \n",
        "Ecuador"
      ],
      "metadata": {
        "id": "pM5FARn4fFbt"
      }
    },
    {
      "cell_type": "code",
      "source": [
        "CONMEBOL = [('Brazil','304635c3'), ('Argentina','f9fddd6e'), ('Uruguay','870e020f'), ('Ecuador','123acaf8')]"
      ],
      "metadata": {
        "id": "9dEHF-Uwijux"
      },
      "execution_count": null,
      "outputs": []
    },
    {
      "cell_type": "markdown",
      "source": [
        "# UEFA \n",
        "Alemania,\n",
        "Bélgica,\n",
        "Croacia,\n",
        "Dinamarca,\n",
        "España,\n",
        "Gales,\n",
        "Inglaterra,\n",
        "Países Bajos,\n",
        "Polonia,\n",
        "Portugal,\n",
        "Serbia,\n",
        "Suiza"
      ],
      "metadata": {
        "id": "fcDp7yMgfy4M"
      }
    },
    {
      "cell_type": "code",
      "source": [
        "UEFA = [('Germany','c1e40422'),('Belgium','361422b9'),('Croatia','7b08e376'),('Denmark','29a4e4af'),('Spain','b561dd30'),('Wales','b1bbcad3'),('England','1862c019'),('Netherlands','5bb5024a'),('Poland','8912dcf0'),('Portugal','4a1b4ea8'),('Serbia','1d6f5c9b'),('Switzerland','81021a70'),('France','b1b36dcd')]"
      ],
      "metadata": {
        "id": "sPEZcFgiitlw"
      },
      "execution_count": null,
      "outputs": []
    },
    {
      "cell_type": "markdown",
      "source": [
        "# CAF\n",
        "Senegal,\n",
        "Túnez,\n",
        "Marruecos,\n",
        "Camerún,\n",
        "Ghana\n"
      ],
      "metadata": {
        "id": "oQ8t_QMtiHSU"
      }
    },
    {
      "cell_type": "code",
      "source": [
        "CAF = [('Senegal','9ab5c684'),('Tunisia','a7c7562a'),('Morocco','af41ccda'),('Cameroon','896550da'),('Ghana','9349828d')]"
      ],
      "metadata": {
        "id": "la0Ha9srjsvJ"
      },
      "execution_count": null,
      "outputs": []
    },
    {
      "cell_type": "markdown",
      "source": [
        "# AFC\n",
        "Catar,\n",
        "Arabia Saudita,\n",
        "Australia,\n",
        "Corea del Sur,\n",
        "Irán,\n",
        "Japón"
      ],
      "metadata": {
        "id": "HDqzHvx3ix2j"
      }
    },
    {
      "cell_type": "code",
      "source": [
        "AFC = [('Qatar','9b696ed1'),('Saudi-Arabia','6e84edac'),('Australia','b90bf4f9'),('Korea-Republic','473f0fbf'),('IR-Iran','6a08f71e'),('Japan','ffcf1690')]"
      ],
      "metadata": {
        "id": "jcgQ_UDukCSP"
      },
      "execution_count": null,
      "outputs": []
    },
    {
      "cell_type": "markdown",
      "source": [
        "# CONCACAF\n",
        "Canadá,\n",
        "México,\n",
        "USA,\n",
        "Costa Rica"
      ],
      "metadata": {
        "id": "rqAgc5u6jYAv"
      }
    },
    {
      "cell_type": "code",
      "source": [
        "CONCACAF = [('Canada','9c6d90a0'),('Mexico','b009a548'),('United-States','0f66725b'),('Costa-Rica','1ea5ab66')]"
      ],
      "metadata": {
        "id": "cCU1B19Eknv-"
      },
      "execution_count": null,
      "outputs": []
    },
    {
      "cell_type": "markdown",
      "source": [
        "#**Code ⬇** "
      ],
      "metadata": {
        "id": "0xvnZ0mKMZzl"
      }
    },
    {
      "cell_type": "code",
      "source": [
        "import pandas as pd\n",
        "from time import sleep"
      ],
      "metadata": {
        "id": "HL5ruK6z1QaO"
      },
      "execution_count": null,
      "outputs": []
    },
    {
      "cell_type": "code",
      "source": [
        "Federations = [CONMEBOL,UEFA,CAF,AFC,CONCACAF]"
      ],
      "metadata": {
        "id": "m0WwkIzVMBzq"
      },
      "execution_count": null,
      "outputs": []
    },
    {
      "cell_type": "code",
      "source": [
        "Years_to_conmebol_concacaf = [2022,2021,2019]\n",
        "Years_to_uefa_caf = [2022,2021]\n",
        "Years_to_afc = [2022,2019]\n"
      ],
      "metadata": {
        "id": "5_XMkiWjOAG2"
      },
      "execution_count": null,
      "outputs": []
    },
    {
      "cell_type": "code",
      "source": [
        "def Extract(country,year):\n",
        "  df = pd.read_html(f'https://fbref.com/es/equipos/{country[1]}/{year}/partidos/all_comps/schedule/Resultados-y-partidos-de-{country[0]}-Men-Todas-las-competencias') \n",
        "  df = df[0]\n",
        "  return df"
      ],
      "metadata": {
        "id": "HkiA0OAeihnD"
      },
      "execution_count": null,
      "outputs": []
    },
    {
      "cell_type": "code",
      "source": [
        "def Transform(df,country): \n",
        "  columns_to_delete = ['Hora','Día','Sedes','xG','xGA','Pos.','Asistencia','Capitán','Formación','Árbitro','Informe del partido','Notas']\n",
        "  for column in columns_to_delete:\n",
        "    if column in df:\n",
        "      df.drop([column], axis = 1, inplace=True)\n",
        "  df = df.drop_duplicates('Fecha')\n",
        "  df = df.dropna()\n",
        "  df.insert(0,'Seleccion',country)\n",
        "  df['Adversario'] = df['Adversario'].apply(lambda values : values[3:])\n",
        "  return df"
      ],
      "metadata": {
        "id": "ZM1jQ5oT3vK2"
      },
      "execution_count": null,
      "outputs": []
    },
    {
      "cell_type": "code",
      "source": [
        "def Load(country,Years = list):\n",
        "\n",
        "  if len(Years) == 3:    \n",
        "      df1 = Extract(country,Years[0])\n",
        "      df2 = Extract(country,Years[1])\n",
        "      df3 = Extract(country,Years[2])\n",
        "      df = pd.concat([df1,df2,df3],ignore_index= True)\n",
        "      df = Transform(df,country[0])\n",
        "      df.to_csv(f'Mundial2022/{country[0]}.csv', encoding = 'utf-8', index = False)\n",
        "      \n",
        "  else:\n",
        "      df1 = Extract(country,Years[0])\n",
        "      df2 = Extract(country,Years[1])\n",
        "      df = pd.concat([df1,df2],ignore_index= True)\n",
        "      df = Transform(df,country[0])\n",
        "      df.to_csv(f'Mundial2022/{country[0]}.csv', encoding = 'utf-8', index = False)\n",
        "      \n"
      ],
      "metadata": {
        "id": "BJvNRNRMsYrV"
      },
      "execution_count": null,
      "outputs": []
    },
    {
      "cell_type": "code",
      "source": [
        "def ETL():\n",
        "  \n",
        "  for federation in Federations:\n",
        "    for country in federation:\n",
        "\n",
        "      if country in CONMEBOL:\n",
        "        Load(country,Years_to_conmebol_concacaf)\n",
        "        \n",
        "      elif country in CONCACAF:\n",
        "        Load(country,Years_to_conmebol_concacaf)   \n",
        "          \n",
        "      elif country in AFC:\n",
        "        Load(country,Years_to_afc)\n",
        "          \n",
        "      else:\n",
        "        Load(country,Years_to_uefa_caf)\n",
        "           \n",
        "      print(country[0],'✅')\n",
        "      sleep(10)\n",
        "     "
      ],
      "metadata": {
        "id": "Ig2_Wt315oy1"
      },
      "execution_count": null,
      "outputs": []
    },
    {
      "cell_type": "code",
      "source": [
        "ETL()"
      ],
      "metadata": {
        "id": "HputilC47_yJ"
      },
      "execution_count": null,
      "outputs": []
    },
    {
      "cell_type": "markdown",
      "source": [
        "# **Download ⬇** "
      ],
      "metadata": {
        "id": "EX5k8LHtnsay"
      }
    },
    {
      "cell_type": "code",
      "source": [
        "from google.colab import files\n",
        "import os"
      ],
      "metadata": {
        "id": "7rRHIDCneILy"
      },
      "execution_count": null,
      "outputs": []
    },
    {
      "cell_type": "code",
      "source": [
        "! zip -r /content/Mundial2022.zip /content/Mundial2022"
      ],
      "metadata": {
        "id": "NVJfCPgZm7tj"
      },
      "execution_count": null,
      "outputs": []
    },
    {
      "cell_type": "code",
      "source": [
        "files.download('/content/Mundial2022.zip')"
      ],
      "metadata": {
        "id": "nipOmExSnJjU"
      },
      "execution_count": null,
      "outputs": []
    },
    {
      "cell_type": "markdown",
      "source": [
        "# **Join the files ⬇**"
      ],
      "metadata": {
        "id": "1C7gkN_Y_i8M"
      }
    },
    {
      "cell_type": "code",
      "source": [
        "import glob"
      ],
      "metadata": {
        "id": "ZXHT6oQI8Q8q"
      },
      "execution_count": null,
      "outputs": []
    },
    {
      "cell_type": "code",
      "source": [
        "path = '/content/Mundial2022/' \n",
        "files_csv = glob.iglob(os.path.join(path, '*.csv')) \n",
        "data_frames = (pd.read_csv(csv) for csv in files_csv)\n",
        "all_data_frames = pd.concat(data_frames)\n",
        "all_data_frames.to_csv('all_selections.csv', encoding = 'utf-8', index = False)"
      ],
      "metadata": {
        "id": "eghihUKk-PaG"
      },
      "execution_count": null,
      "outputs": []
    },
    {
      "cell_type": "code",
      "source": [
        "files.download('/content/all_selections.csv')"
      ],
      "metadata": {
        "id": "sg3_afvcCVUv"
      },
      "execution_count": null,
      "outputs": []
    }
  ]
}